{
 "cells": [
  {
   "cell_type": "markdown",
   "id": "88ce1a2a-eeae-44a9-8b07-2f1bba7d3ca6",
   "metadata": {},
   "source": [
    "# Verification of TC Jasper risk matrix forecasts\n",
    "\n",
    "\n",
    "This code is used to generate Figure 10 in the paper, including calculating the mean scores for each of the forecast sources."
   ]
  },
  {
   "cell_type": "code",
   "execution_count": 1,
   "id": "e1e692d5-95db-4311-bb1a-87de8bc9f672",
   "metadata": {},
   "outputs": [],
   "source": [
    "import xarray as xr\n",
    "import pandas as pd\n",
    "import numpy as np\n",
    "import plotly.graph_objects as go\n",
    "from plotly.subplots import make_subplots\n",
    "\n",
    "# import locally stored python modules\n",
    "import my_functions as mf\n",
    "import gamma_fitting as gf\n"
   ]
  },
  {
   "cell_type": "code",
   "execution_count": 2,
   "id": "b5ed02ba-ee47-46c9-ac3e-ca87a07fb785",
   "metadata": {},
   "outputs": [],
   "source": [
    "# director where data is located.\n",
    "DIR_DATA = 'data'\n",
    "\n",
    "# severity thresholds, in terms of percentage AEP. Severity increases with decreasing threshold value.\n",
    "AEP_PCT_THESHOLDS = [20, 10, 5]\n",
    "# Severity category names\n",
    "SEV_CATS = ('MOD+', 'SEV+', 'EXT')\n",
    "\n",
    "# probability thresholds\n",
    "PROB_THRESHOLDS = [.1, .3, .5]\n",
    "\n",
    "# weight schemes for different warning scalings\n",
    "WTS_LONGRANGE = np.array(  # lead day 0 warning\n",
    "    [\n",
    "        [0, 0, 0],  # high prob threshold\n",
    "        [0, 0, 0],  # mid prob threshold\n",
    "        [1, 0, 0],  # low prob threshold\n",
    "    ]\n",
    ")\n",
    "\n",
    "WTS_MIDRANGE = np.array(  # lead day 1 warning\n",
    "    [\n",
    "        [0, 0, 1],  # high prob threshold\n",
    "        [0, 1, 0],  # mid prob threshold\n",
    "        [1, 0, 0],  # low prob threshold\n",
    "    ]\n",
    ")\n",
    "\n",
    "WTS_SHORTRANGE = np.array(  # lead day 0 warning\n",
    "    [\n",
    "        [1, 1, 0],  # high prob threshold\n",
    "        [0, 1, 1],  # mid prob threshold\n",
    "        [1, 0, 1],  # low prob threshold\n",
    "    ]\n",
    ")\n",
    "\n",
    "WTS_UNIFORM = np.array(\n",
    "    [\n",
    "        [1, 1, 1],  # high prob threshold\n",
    "        [1, 1, 1],  # mid prob threshold\n",
    "        [1, 1, 1],  # low prob threshold\n",
    "    ]\n",
    ")\n",
    "\n",
    "WTS_ESCALATE = np.array(  # increasing weight for each higher colour\n",
    "    [\n",
    "        [2, 3, 0],  # high prob threshold\n",
    "        [0, 2, 3],  # mid prob threshold\n",
    "        [1, 0, 2],  # low prob threshold\n",
    "    ]\n",
    ")"
   ]
  },
  {
   "cell_type": "code",
   "execution_count": 3,
   "id": "ae0efdac-8c5d-43f4-901e-43939a2914f6",
   "metadata": {},
   "outputs": [],
   "source": [
    "# get all the data, convert obs into binary format\n",
    "\n",
    "# get the forecast data\n",
    "ecens = xr.open_dataarray(f'{DIR_DATA}/station_precipitation24h_ecmwf_ens_20231217.nc')\n",
    "ecdet = xr.open_dataarray(f'{DIR_DATA}/station_precipitation24h_ecmwf_hres_20231217.nc')\n",
    "acens = xr.open_dataarray(f'{DIR_DATA}/station_precipitation24h_bom_access_ge3_20231217.nc')\n",
    "\n",
    "# get the AEP data\n",
    "# The aep_pct dimension is the annual exceedance probability, expressed as a percentage\n",
    "aeps = xr.open_dataset(f'{DIR_DATA}/aeps_at_stations.nc')\n",
    "# get the AEP percent thresholds of interest and relabel them as severity thresholds\n",
    "aeps = aeps.sel(aep_pct=AEP_PCT_THESHOLDS, method='nearest').rename({'aep_pct': 'sev_threshold'})\n",
    "\n",
    "# get the observations (in millimetres) as a dataframe\n",
    "obs = pd.read_csv(f'{DIR_DATA}/observations.csv')\n",
    "# convert to an xarray data array\n",
    "obs = obs[['valid_15z_date', 'station_number', 'precip']].set_index(['valid_15z_date', 'station_number']).to_xarray()['precip']\n",
    "\n",
    "# make the observations binary\n",
    "obs_mask = ~np.isnan(obs)\n",
    "# 1 if exceeded AEP, 0 otherwise\n",
    "binary_obs = (obs > aeps.rainfall_depth).astype(float)\n",
    "binary_obs = binary_obs.where(obs_mask).sel(valid_15z_date='2023-12-17')\n"
   ]
  },
  {
   "cell_type": "code",
   "execution_count": 4,
   "id": "df92d3a7-2ea9-4ca6-bbd5-ea37bccbbbb9",
   "metadata": {},
   "outputs": [],
   "source": [
    "# function to calculate probability of exceedances\n",
    "\n",
    "def poe_from_ensemble(fcst, aeps):\n",
    "    \"\"\"\n",
    "    Gets probability of exceedance forecasts from an ensemble of forecasts.\n",
    "\n",
    "    Args:\n",
    "        fcst: xarray data array of forecasts.\n",
    "        aeps: dataset of AEP thresholds\n",
    "    \n",
    "    \"\"\"\n",
    "    # make sure fcst and aeps have a common set of stations\n",
    "    fcst = fcst.sel(station_number=aeps.station_number)\n",
    "\n",
    "    # if 'realization' is not a dimension, it is a deterministic model\n",
    "    if 'realization' not in fcst.dims:\n",
    "        mask = ~np.isnan(fcst)\n",
    "        poes = (fcst > aeps['rainfall_depth']).astype(float).where(mask)\n",
    "    else:\n",
    "        # number of ensemble members\n",
    "        n_ens = len(fcst.realization)\n",
    "        mask = fcst.count('realization') == n_ens\n",
    "        # apply a gamma fit to the ensemble precipitation forecast\n",
    "        fcst = mf.clip_small_amounts(fcst)\n",
    "        pars = gf.hybridgamma_best_fit(fcst, point_dim='realization')\n",
    "        # get the probability of exceedances from the fit\n",
    "        poes = 1 - gf.hybridgamma_cdf(aeps['rainfall_depth'], pars)\n",
    "        poes = poes.where(mask)\n",
    "   \n",
    "    return poes\n"
   ]
  },
  {
   "cell_type": "code",
   "execution_count": 5,
   "id": "c35561eb-9ca7-4c45-92be-896013ea14e9",
   "metadata": {},
   "outputs": [],
   "source": [
    "# get the probability of exceedance forecasts\n",
    "poe_ecens = poe_from_ensemble(ecens, aeps)\n",
    "poe_ecdet = poe_from_ensemble(ecdet, aeps)\n",
    "poe_acens = poe_from_ensemble(acens, aeps)\n",
    "# PoE for the never warn forecast\n",
    "poe_nil = xr.full_like(poe_acens, 0)  # the no warning forecast\n",
    "\n",
    "# get the weight arrays\n",
    "wt_longrange = mf.wt_matrix_to_xr(WTS_LONGRANGE, PROB_THRESHOLDS, AEP_PCT_THESHOLDS, sev_thresholds_descending=True)\n",
    "wt_midrange = mf.wt_matrix_to_xr(WTS_MIDRANGE, PROB_THRESHOLDS, AEP_PCT_THESHOLDS, sev_thresholds_descending=True)\n",
    "wt_shortrange = mf.wt_matrix_to_xr(WTS_SHORTRANGE, PROB_THRESHOLDS, AEP_PCT_THESHOLDS, sev_thresholds_descending=True)\n",
    "wt_uniform = mf.wt_matrix_to_xr(WTS_UNIFORM, PROB_THRESHOLDS, AEP_PCT_THESHOLDS, sev_thresholds_descending=True)\n",
    "wt_escalate = mf.wt_matrix_to_xr(WTS_ESCALATE, PROB_THRESHOLDS, AEP_PCT_THESHOLDS, sev_thresholds_descending=True)"
   ]
  },
  {
   "cell_type": "code",
   "execution_count": 8,
   "id": "d69ec102-0e6e-4e9e-b2c2-3f12cef9e88b",
   "metadata": {},
   "outputs": [
    {
     "data": {
      "application/vnd.plotly.v1+json": {
       "config": {
        "plotlyServerURL": "https://plot.ly"
       },
       "data": [
        {
         "marker": {
          "color": "#E69F00"
         },
         "name": "ECMWF ensemble",
         "showlegend": false,
         "type": "bar",
         "x": [
          "15 Dec",
          "16 Dec",
          "17 Dec"
         ],
         "xaxis": "x",
         "y": [
          0.9892655367231639,
          0.9887005649717514,
          0.7242937853107345
         ],
         "yaxis": "y"
        },
        {
         "marker": {
          "color": "#56B4E9"
         },
         "name": "ECMWF deterministic",
         "showlegend": false,
         "type": "bar",
         "x": [
          "15 Dec",
          "16 Dec",
          "17 Dec"
         ],
         "xaxis": "x",
         "y": [
          0.9966101694915255,
          1.0423728813559323,
          1.157627118644068
         ],
         "yaxis": "y"
        },
        {
         "marker": {
          "color": "#CC79A7"
         },
         "name": "ACCESS-GE3",
         "showlegend": false,
         "type": "bar",
         "x": [
          "15 Dec",
          "16 Dec",
          "17 Dec"
         ],
         "xaxis": "x",
         "y": [
          1.0322033898305085,
          1.0322033898305085,
          0.7768361581920904
         ],
         "yaxis": "y"
        },
        {
         "marker": {
          "color": "#D55E00"
         },
         "name": "Never Warn",
         "showlegend": false,
         "type": "bar",
         "x": [
          "15 Dec",
          "16 Dec",
          "17 Dec"
         ],
         "xaxis": "x",
         "y": [
          1.0322033898305085,
          1.0322033898305085,
          1.0322033898305085
         ],
         "yaxis": "y"
        },
        {
         "marker": {
          "color": "#E69F00"
         },
         "name": "ECMWF ensemble",
         "type": "bar",
         "x": [
          "15 Dec",
          "16 Dec",
          "17 Dec"
         ],
         "xaxis": "x2",
         "y": [
          0.17005649717514126,
          0.3401129943502825,
          0.5050847457627118
         ],
         "yaxis": "y2"
        },
        {
         "marker": {
          "color": "#56B4E9"
         },
         "name": "ECMWF deterministic",
         "type": "bar",
         "x": [
          "15 Dec",
          "16 Dec",
          "17 Dec"
         ],
         "xaxis": "x2",
         "y": [
          0.19322033898305085,
          0.3666666666666667,
          0.7706214689265537
         ],
         "yaxis": "y2"
        },
        {
         "marker": {
          "color": "#CC79A7"
         },
         "name": "ACCESS-GE3",
         "type": "bar",
         "x": [
          "15 Dec",
          "16 Dec",
          "17 Dec"
         ],
         "xaxis": "x2",
         "y": [
          0.2033898305084746,
          0.36553672316384184,
          0.5090395480225989
         ],
         "yaxis": "y2"
        },
        {
         "marker": {
          "color": "#D55E00"
         },
         "name": "Never Warn",
         "type": "bar",
         "x": [
          "15 Dec",
          "16 Dec",
          "17 Dec"
         ],
         "xaxis": "x2",
         "y": [
          0.2033898305084746,
          0.36553672316384184,
          0.6824858757062147
         ],
         "yaxis": "y2"
        },
        {
         "marker": {
          "color": "#E69F00"
         },
         "name": "ECMWF ensemble",
         "showlegend": false,
         "type": "bar",
         "x": [
          "LONG-RANGE",
          "MID-RANGE",
          "SHORT-RANGE",
          "ESCALATE",
          "UNIFORM"
         ],
         "xaxis": "x3",
         "y": [
          0.09548022598870062,
          0.08531073446327682,
          0.08418079096045207,
          0.08122555410691001,
          0.08047708725674822
         ],
         "yaxis": "y3"
        },
        {
         "marker": {
          "color": "#56B4E9"
         },
         "name": "ECMWF deterministic",
         "showlegend": false,
         "type": "bar",
         "x": [
          "LONG-RANGE",
          "MID-RANGE",
          "SHORT-RANGE",
          "ESCALATE",
          "UNIFORM"
         ],
         "xaxis": "x3",
         "y": [
          0.17740112994350285,
          0.13239171374764594,
          0.12843691148775896,
          0.12172968274663191,
          0.12862523540489643
         ],
         "yaxis": "y3"
        },
        {
         "marker": {
          "color": "#CC79A7"
         },
         "name": "ACCESS-GE3",
         "showlegend": false,
         "type": "bar",
         "x": [
          "LONG-RANGE",
          "MID-RANGE",
          "SHORT-RANGE",
          "ESCALATE",
          "UNIFORM"
         ],
         "xaxis": "x3",
         "y": [
          0.09322033898305085,
          0.08041431261770245,
          0.08483992467043316,
          0.08213820078226856,
          0.08631512868800999
         ],
         "yaxis": "y3"
        },
        {
         "marker": {
          "color": "#D55E00"
         },
         "name": "Never Warn",
         "showlegend": false,
         "type": "bar",
         "x": [
          "LONG-RANGE",
          "MID-RANGE",
          "SHORT-RANGE",
          "ESCALATE",
          "UNIFORM"
         ],
         "xaxis": "x3",
         "y": [
          0.20338983050847442,
          0.12184557438794724,
          0.1137476459510357,
          0.10139069969578439,
          0.11468926553672308
         ],
         "yaxis": "y3"
        }
       ],
       "layout": {
        "annotations": [
         {
          "showarrow": false,
          "text": "(a)",
          "x": 0.02,
          "xanchor": "right",
          "xref": "paper",
          "y": 1.02,
          "yanchor": "bottom",
          "yref": "paper"
         },
         {
          "showarrow": false,
          "text": "(b)",
          "x": 0.295,
          "xanchor": "right",
          "xref": "paper",
          "y": 1.02,
          "yanchor": "bottom",
          "yref": "paper"
         },
         {
          "showarrow": false,
          "text": "(c)",
          "x": 0.57,
          "xanchor": "right",
          "xref": "paper",
          "y": 1.02,
          "yanchor": "bottom",
          "yref": "paper"
         }
        ],
        "autosize": false,
        "height": 350,
        "legend": {
         "orientation": "v",
         "x": 0.99,
         "xanchor": "right",
         "y": 0.99,
         "yanchor": "top"
        },
        "margin": {
         "b": 5,
         "l": 5,
         "r": 5,
         "t": 30
        },
        "template": {
         "data": {
          "bar": [
           {
            "error_x": {
             "color": "#2a3f5f"
            },
            "error_y": {
             "color": "#2a3f5f"
            },
            "marker": {
             "line": {
              "color": "#E5ECF6",
              "width": 0.5
             },
             "pattern": {
              "fillmode": "overlay",
              "size": 10,
              "solidity": 0.2
             }
            },
            "type": "bar"
           }
          ],
          "barpolar": [
           {
            "marker": {
             "line": {
              "color": "#E5ECF6",
              "width": 0.5
             },
             "pattern": {
              "fillmode": "overlay",
              "size": 10,
              "solidity": 0.2
             }
            },
            "type": "barpolar"
           }
          ],
          "carpet": [
           {
            "aaxis": {
             "endlinecolor": "#2a3f5f",
             "gridcolor": "white",
             "linecolor": "white",
             "minorgridcolor": "white",
             "startlinecolor": "#2a3f5f"
            },
            "baxis": {
             "endlinecolor": "#2a3f5f",
             "gridcolor": "white",
             "linecolor": "white",
             "minorgridcolor": "white",
             "startlinecolor": "#2a3f5f"
            },
            "type": "carpet"
           }
          ],
          "choropleth": [
           {
            "colorbar": {
             "outlinewidth": 0,
             "ticks": ""
            },
            "type": "choropleth"
           }
          ],
          "contour": [
           {
            "colorbar": {
             "outlinewidth": 0,
             "ticks": ""
            },
            "colorscale": [
             [
              0,
              "#0d0887"
             ],
             [
              0.1111111111111111,
              "#46039f"
             ],
             [
              0.2222222222222222,
              "#7201a8"
             ],
             [
              0.3333333333333333,
              "#9c179e"
             ],
             [
              0.4444444444444444,
              "#bd3786"
             ],
             [
              0.5555555555555556,
              "#d8576b"
             ],
             [
              0.6666666666666666,
              "#ed7953"
             ],
             [
              0.7777777777777778,
              "#fb9f3a"
             ],
             [
              0.8888888888888888,
              "#fdca26"
             ],
             [
              1,
              "#f0f921"
             ]
            ],
            "type": "contour"
           }
          ],
          "contourcarpet": [
           {
            "colorbar": {
             "outlinewidth": 0,
             "ticks": ""
            },
            "type": "contourcarpet"
           }
          ],
          "heatmap": [
           {
            "colorbar": {
             "outlinewidth": 0,
             "ticks": ""
            },
            "colorscale": [
             [
              0,
              "#0d0887"
             ],
             [
              0.1111111111111111,
              "#46039f"
             ],
             [
              0.2222222222222222,
              "#7201a8"
             ],
             [
              0.3333333333333333,
              "#9c179e"
             ],
             [
              0.4444444444444444,
              "#bd3786"
             ],
             [
              0.5555555555555556,
              "#d8576b"
             ],
             [
              0.6666666666666666,
              "#ed7953"
             ],
             [
              0.7777777777777778,
              "#fb9f3a"
             ],
             [
              0.8888888888888888,
              "#fdca26"
             ],
             [
              1,
              "#f0f921"
             ]
            ],
            "type": "heatmap"
           }
          ],
          "heatmapgl": [
           {
            "colorbar": {
             "outlinewidth": 0,
             "ticks": ""
            },
            "colorscale": [
             [
              0,
              "#0d0887"
             ],
             [
              0.1111111111111111,
              "#46039f"
             ],
             [
              0.2222222222222222,
              "#7201a8"
             ],
             [
              0.3333333333333333,
              "#9c179e"
             ],
             [
              0.4444444444444444,
              "#bd3786"
             ],
             [
              0.5555555555555556,
              "#d8576b"
             ],
             [
              0.6666666666666666,
              "#ed7953"
             ],
             [
              0.7777777777777778,
              "#fb9f3a"
             ],
             [
              0.8888888888888888,
              "#fdca26"
             ],
             [
              1,
              "#f0f921"
             ]
            ],
            "type": "heatmapgl"
           }
          ],
          "histogram": [
           {
            "marker": {
             "pattern": {
              "fillmode": "overlay",
              "size": 10,
              "solidity": 0.2
             }
            },
            "type": "histogram"
           }
          ],
          "histogram2d": [
           {
            "colorbar": {
             "outlinewidth": 0,
             "ticks": ""
            },
            "colorscale": [
             [
              0,
              "#0d0887"
             ],
             [
              0.1111111111111111,
              "#46039f"
             ],
             [
              0.2222222222222222,
              "#7201a8"
             ],
             [
              0.3333333333333333,
              "#9c179e"
             ],
             [
              0.4444444444444444,
              "#bd3786"
             ],
             [
              0.5555555555555556,
              "#d8576b"
             ],
             [
              0.6666666666666666,
              "#ed7953"
             ],
             [
              0.7777777777777778,
              "#fb9f3a"
             ],
             [
              0.8888888888888888,
              "#fdca26"
             ],
             [
              1,
              "#f0f921"
             ]
            ],
            "type": "histogram2d"
           }
          ],
          "histogram2dcontour": [
           {
            "colorbar": {
             "outlinewidth": 0,
             "ticks": ""
            },
            "colorscale": [
             [
              0,
              "#0d0887"
             ],
             [
              0.1111111111111111,
              "#46039f"
             ],
             [
              0.2222222222222222,
              "#7201a8"
             ],
             [
              0.3333333333333333,
              "#9c179e"
             ],
             [
              0.4444444444444444,
              "#bd3786"
             ],
             [
              0.5555555555555556,
              "#d8576b"
             ],
             [
              0.6666666666666666,
              "#ed7953"
             ],
             [
              0.7777777777777778,
              "#fb9f3a"
             ],
             [
              0.8888888888888888,
              "#fdca26"
             ],
             [
              1,
              "#f0f921"
             ]
            ],
            "type": "histogram2dcontour"
           }
          ],
          "mesh3d": [
           {
            "colorbar": {
             "outlinewidth": 0,
             "ticks": ""
            },
            "type": "mesh3d"
           }
          ],
          "parcoords": [
           {
            "line": {
             "colorbar": {
              "outlinewidth": 0,
              "ticks": ""
             }
            },
            "type": "parcoords"
           }
          ],
          "pie": [
           {
            "automargin": true,
            "type": "pie"
           }
          ],
          "scatter": [
           {
            "fillpattern": {
             "fillmode": "overlay",
             "size": 10,
             "solidity": 0.2
            },
            "type": "scatter"
           }
          ],
          "scatter3d": [
           {
            "line": {
             "colorbar": {
              "outlinewidth": 0,
              "ticks": ""
             }
            },
            "marker": {
             "colorbar": {
              "outlinewidth": 0,
              "ticks": ""
             }
            },
            "type": "scatter3d"
           }
          ],
          "scattercarpet": [
           {
            "marker": {
             "colorbar": {
              "outlinewidth": 0,
              "ticks": ""
             }
            },
            "type": "scattercarpet"
           }
          ],
          "scattergeo": [
           {
            "marker": {
             "colorbar": {
              "outlinewidth": 0,
              "ticks": ""
             }
            },
            "type": "scattergeo"
           }
          ],
          "scattergl": [
           {
            "marker": {
             "colorbar": {
              "outlinewidth": 0,
              "ticks": ""
             }
            },
            "type": "scattergl"
           }
          ],
          "scattermapbox": [
           {
            "marker": {
             "colorbar": {
              "outlinewidth": 0,
              "ticks": ""
             }
            },
            "type": "scattermapbox"
           }
          ],
          "scatterpolar": [
           {
            "marker": {
             "colorbar": {
              "outlinewidth": 0,
              "ticks": ""
             }
            },
            "type": "scatterpolar"
           }
          ],
          "scatterpolargl": [
           {
            "marker": {
             "colorbar": {
              "outlinewidth": 0,
              "ticks": ""
             }
            },
            "type": "scatterpolargl"
           }
          ],
          "scatterternary": [
           {
            "marker": {
             "colorbar": {
              "outlinewidth": 0,
              "ticks": ""
             }
            },
            "type": "scatterternary"
           }
          ],
          "surface": [
           {
            "colorbar": {
             "outlinewidth": 0,
             "ticks": ""
            },
            "colorscale": [
             [
              0,
              "#0d0887"
             ],
             [
              0.1111111111111111,
              "#46039f"
             ],
             [
              0.2222222222222222,
              "#7201a8"
             ],
             [
              0.3333333333333333,
              "#9c179e"
             ],
             [
              0.4444444444444444,
              "#bd3786"
             ],
             [
              0.5555555555555556,
              "#d8576b"
             ],
             [
              0.6666666666666666,
              "#ed7953"
             ],
             [
              0.7777777777777778,
              "#fb9f3a"
             ],
             [
              0.8888888888888888,
              "#fdca26"
             ],
             [
              1,
              "#f0f921"
             ]
            ],
            "type": "surface"
           }
          ],
          "table": [
           {
            "cells": {
             "fill": {
              "color": "#EBF0F8"
             },
             "line": {
              "color": "white"
             }
            },
            "header": {
             "fill": {
              "color": "#C8D4E3"
             },
             "line": {
              "color": "white"
             }
            },
            "type": "table"
           }
          ]
         },
         "layout": {
          "annotationdefaults": {
           "arrowcolor": "#2a3f5f",
           "arrowhead": 0,
           "arrowwidth": 1
          },
          "autotypenumbers": "strict",
          "coloraxis": {
           "colorbar": {
            "outlinewidth": 0,
            "ticks": ""
           }
          },
          "colorscale": {
           "diverging": [
            [
             0,
             "#8e0152"
            ],
            [
             0.1,
             "#c51b7d"
            ],
            [
             0.2,
             "#de77ae"
            ],
            [
             0.3,
             "#f1b6da"
            ],
            [
             0.4,
             "#fde0ef"
            ],
            [
             0.5,
             "#f7f7f7"
            ],
            [
             0.6,
             "#e6f5d0"
            ],
            [
             0.7,
             "#b8e186"
            ],
            [
             0.8,
             "#7fbc41"
            ],
            [
             0.9,
             "#4d9221"
            ],
            [
             1,
             "#276419"
            ]
           ],
           "sequential": [
            [
             0,
             "#0d0887"
            ],
            [
             0.1111111111111111,
             "#46039f"
            ],
            [
             0.2222222222222222,
             "#7201a8"
            ],
            [
             0.3333333333333333,
             "#9c179e"
            ],
            [
             0.4444444444444444,
             "#bd3786"
            ],
            [
             0.5555555555555556,
             "#d8576b"
            ],
            [
             0.6666666666666666,
             "#ed7953"
            ],
            [
             0.7777777777777778,
             "#fb9f3a"
            ],
            [
             0.8888888888888888,
             "#fdca26"
            ],
            [
             1,
             "#f0f921"
            ]
           ],
           "sequentialminus": [
            [
             0,
             "#0d0887"
            ],
            [
             0.1111111111111111,
             "#46039f"
            ],
            [
             0.2222222222222222,
             "#7201a8"
            ],
            [
             0.3333333333333333,
             "#9c179e"
            ],
            [
             0.4444444444444444,
             "#bd3786"
            ],
            [
             0.5555555555555556,
             "#d8576b"
            ],
            [
             0.6666666666666666,
             "#ed7953"
            ],
            [
             0.7777777777777778,
             "#fb9f3a"
            ],
            [
             0.8888888888888888,
             "#fdca26"
            ],
            [
             1,
             "#f0f921"
            ]
           ]
          },
          "colorway": [
           "#636efa",
           "#EF553B",
           "#00cc96",
           "#ab63fa",
           "#FFA15A",
           "#19d3f3",
           "#FF6692",
           "#B6E880",
           "#FF97FF",
           "#FECB52"
          ],
          "font": {
           "color": "#2a3f5f"
          },
          "geo": {
           "bgcolor": "white",
           "lakecolor": "white",
           "landcolor": "#E5ECF6",
           "showlakes": true,
           "showland": true,
           "subunitcolor": "white"
          },
          "hoverlabel": {
           "align": "left"
          },
          "hovermode": "closest",
          "mapbox": {
           "style": "light"
          },
          "paper_bgcolor": "white",
          "plot_bgcolor": "#E5ECF6",
          "polar": {
           "angularaxis": {
            "gridcolor": "white",
            "linecolor": "white",
            "ticks": ""
           },
           "bgcolor": "#E5ECF6",
           "radialaxis": {
            "gridcolor": "white",
            "linecolor": "white",
            "ticks": ""
           }
          },
          "scene": {
           "xaxis": {
            "backgroundcolor": "#E5ECF6",
            "gridcolor": "white",
            "gridwidth": 2,
            "linecolor": "white",
            "showbackground": true,
            "ticks": "",
            "zerolinecolor": "white"
           },
           "yaxis": {
            "backgroundcolor": "#E5ECF6",
            "gridcolor": "white",
            "gridwidth": 2,
            "linecolor": "white",
            "showbackground": true,
            "ticks": "",
            "zerolinecolor": "white"
           },
           "zaxis": {
            "backgroundcolor": "#E5ECF6",
            "gridcolor": "white",
            "gridwidth": 2,
            "linecolor": "white",
            "showbackground": true,
            "ticks": "",
            "zerolinecolor": "white"
           }
          },
          "shapedefaults": {
           "line": {
            "color": "#2a3f5f"
           }
          },
          "ternary": {
           "aaxis": {
            "gridcolor": "white",
            "linecolor": "white",
            "ticks": ""
           },
           "baxis": {
            "gridcolor": "white",
            "linecolor": "white",
            "ticks": ""
           },
           "bgcolor": "#E5ECF6",
           "caxis": {
            "gridcolor": "white",
            "linecolor": "white",
            "ticks": ""
           }
          },
          "title": {
           "x": 0.05
          },
          "xaxis": {
           "automargin": true,
           "gridcolor": "white",
           "linecolor": "white",
           "ticks": "",
           "title": {
            "standoff": 15
           },
           "zerolinecolor": "white",
           "zerolinewidth": 2
          },
          "yaxis": {
           "automargin": true,
           "gridcolor": "white",
           "linecolor": "white",
           "ticks": "",
           "title": {
            "standoff": 15
           },
           "zerolinecolor": "white",
           "zerolinewidth": 2
          }
         }
        },
        "width": 1000,
        "xaxis": {
         "anchor": "y",
         "autorange": true,
         "domain": [
          0,
          0.225
         ],
         "range": [
          -0.5,
          2.5
         ],
         "title": {
          "text": "issue date"
         },
         "type": "category"
        },
        "xaxis2": {
         "anchor": "y2",
         "autorange": true,
         "domain": [
          0.275,
          0.5
         ],
         "range": [
          -0.5,
          2.5
         ],
         "title": {
          "text": "issue date"
         },
         "type": "category"
        },
        "xaxis3": {
         "anchor": "y3",
         "autorange": true,
         "domain": [
          0.55,
          1
         ],
         "range": [
          -0.5,
          4.5
         ],
         "title": {
          "text": "weight scheme"
         },
         "type": "category"
        },
        "yaxis": {
         "anchor": "x",
         "autorange": true,
         "domain": [
          0,
          1
         ],
         "range": [
          0,
          1.218554861730598
         ],
         "title": {
          "text": "mean score"
         },
         "type": "linear"
        },
        "yaxis2": {
         "anchor": "x2",
         "autorange": true,
         "domain": [
          0,
          1
         ],
         "range": [
          0,
          0.8111804936068986
         ],
         "type": "linear"
        },
        "yaxis3": {
         "anchor": "x3",
         "autorange": true,
         "domain": [
          0,
          1
         ],
         "range": [
          0,
          0.21409455842997308
         ],
         "type": "linear"
        }
       }
      },
      "image/png": "[encoded data removed]",
      "text/html": [
       "<div>                            <div id=\"4a668a82-64b5-4c68-810a-9a10ea633790\" class=\"plotly-graph-div\" style=\"height:350px; width:1000px;\"></div>            <script type=\"text/javascript\">                require([\"plotly\"], function(Plotly) {                    window.PLOTLYENV=window.PLOTLYENV || {};                                    if (document.getElementById(\"4a668a82-64b5-4c68-810a-9a10ea633790\")) {                    Plotly.newPlot(                        \"4a668a82-64b5-4c68-810a-9a10ea633790\",                        [{\"marker\":{\"color\":\"#E69F00\"},\"name\":\"ECMWF ensemble\",\"showlegend\":false,\"x\":[\"15 Dec\",\"16 Dec\",\"17 Dec\"],\"y\":[0.9892655367231639,0.9887005649717514,0.7242937853107345],\"type\":\"bar\",\"xaxis\":\"x\",\"yaxis\":\"y\"},{\"marker\":{\"color\":\"#56B4E9\"},\"name\":\"ECMWF deterministic\",\"showlegend\":false,\"x\":[\"15 Dec\",\"16 Dec\",\"17 Dec\"],\"y\":[0.9966101694915255,1.0423728813559323,1.157627118644068],\"type\":\"bar\",\"xaxis\":\"x\",\"yaxis\":\"y\"},{\"marker\":{\"color\":\"#CC79A7\"},\"name\":\"ACCESS-GE3\",\"showlegend\":false,\"x\":[\"15 Dec\",\"16 Dec\",\"17 Dec\"],\"y\":[1.0322033898305085,1.0322033898305085,0.7768361581920904],\"type\":\"bar\",\"xaxis\":\"x\",\"yaxis\":\"y\"},{\"marker\":{\"color\":\"#D55E00\"},\"name\":\"Never Warn\",\"showlegend\":false,\"x\":[\"15 Dec\",\"16 Dec\",\"17 Dec\"],\"y\":[1.0322033898305085,1.0322033898305085,1.0322033898305085],\"type\":\"bar\",\"xaxis\":\"x\",\"yaxis\":\"y\"},{\"marker\":{\"color\":\"#E69F00\"},\"name\":\"ECMWF ensemble\",\"x\":[\"15 Dec\",\"16 Dec\",\"17 Dec\"],\"y\":[0.17005649717514126,0.3401129943502825,0.5050847457627118],\"type\":\"bar\",\"xaxis\":\"x2\",\"yaxis\":\"y2\"},{\"marker\":{\"color\":\"#56B4E9\"},\"name\":\"ECMWF deterministic\",\"x\":[\"15 Dec\",\"16 Dec\",\"17 Dec\"],\"y\":[0.19322033898305085,0.3666666666666667,0.7706214689265537],\"type\":\"bar\",\"xaxis\":\"x2\",\"yaxis\":\"y2\"},{\"marker\":{\"color\":\"#CC79A7\"},\"name\":\"ACCESS-GE3\",\"x\":[\"15 Dec\",\"16 Dec\",\"17 Dec\"],\"y\":[0.2033898305084746,0.36553672316384184,0.5090395480225989],\"type\":\"bar\",\"xaxis\":\"x2\",\"yaxis\":\"y2\"},{\"marker\":{\"color\":\"#D55E00\"},\"name\":\"Never Warn\",\"x\":[\"15 Dec\",\"16 Dec\",\"17 Dec\"],\"y\":[0.2033898305084746,0.36553672316384184,0.6824858757062147],\"type\":\"bar\",\"xaxis\":\"x2\",\"yaxis\":\"y2\"},{\"marker\":{\"color\":\"#E69F00\"},\"name\":\"ECMWF ensemble\",\"showlegend\":false,\"x\":[\"LONG-RANGE\",\"MID-RANGE\",\"SHORT-RANGE\",\"ESCALATE\",\"UNIFORM\"],\"y\":[0.09548022598870062,0.08531073446327682,0.08418079096045207,0.08122555410691001,0.08047708725674822],\"type\":\"bar\",\"xaxis\":\"x3\",\"yaxis\":\"y3\"},{\"marker\":{\"color\":\"#56B4E9\"},\"name\":\"ECMWF deterministic\",\"showlegend\":false,\"x\":[\"LONG-RANGE\",\"MID-RANGE\",\"SHORT-RANGE\",\"ESCALATE\",\"UNIFORM\"],\"y\":[0.17740112994350285,0.13239171374764594,0.12843691148775896,0.12172968274663191,0.12862523540489643],\"type\":\"bar\",\"xaxis\":\"x3\",\"yaxis\":\"y3\"},{\"marker\":{\"color\":\"#CC79A7\"},\"name\":\"ACCESS-GE3\",\"showlegend\":false,\"x\":[\"LONG-RANGE\",\"MID-RANGE\",\"SHORT-RANGE\",\"ESCALATE\",\"UNIFORM\"],\"y\":[0.09322033898305085,0.08041431261770245,0.08483992467043316,0.08213820078226856,0.08631512868800999],\"type\":\"bar\",\"xaxis\":\"x3\",\"yaxis\":\"y3\"},{\"marker\":{\"color\":\"#D55E00\"},\"name\":\"Never Warn\",\"showlegend\":false,\"x\":[\"LONG-RANGE\",\"MID-RANGE\",\"SHORT-RANGE\",\"ESCALATE\",\"UNIFORM\"],\"y\":[0.20338983050847442,0.12184557438794724,0.1137476459510357,0.10139069969578439,0.11468926553672308],\"type\":\"bar\",\"xaxis\":\"x3\",\"yaxis\":\"y3\"}],                        {\"template\":{\"data\":{\"histogram2dcontour\":[{\"type\":\"histogram2dcontour\",\"colorbar\":{\"outlinewidth\":0,\"ticks\":\"\"},\"colorscale\":[[0.0,\"#0d0887\"],[0.1111111111111111,\"#46039f\"],[0.2222222222222222,\"#7201a8\"],[0.3333333333333333,\"#9c179e\"],[0.4444444444444444,\"#bd3786\"],[0.5555555555555556,\"#d8576b\"],[0.6666666666666666,\"#ed7953\"],[0.7777777777777778,\"#fb9f3a\"],[0.8888888888888888,\"#fdca26\"],[1.0,\"#f0f921\"]]}],\"choropleth\":[{\"type\":\"choropleth\",\"colorbar\":{\"outlinewidth\":0,\"ticks\":\"\"}}],\"histogram2d\":[{\"type\":\"histogram2d\",\"colorbar\":{\"outlinewidth\":0,\"ticks\":\"\"},\"colorscale\":[[0.0,\"#0d0887\"],[0.1111111111111111,\"#46039f\"],[0.2222222222222222,\"#7201a8\"],[0.3333333333333333,\"#9c179e\"],[0.4444444444444444,\"#bd3786\"],[0.5555555555555556,\"#d8576b\"],[0.6666666666666666,\"#ed7953\"],[0.7777777777777778,\"#fb9f3a\"],[0.8888888888888888,\"#fdca26\"],[1.0,\"#f0f921\"]]}],\"heatmap\":[{\"type\":\"heatmap\",\"colorbar\":{\"outlinewidth\":0,\"ticks\":\"\"},\"colorscale\":[[0.0,\"#0d0887\"],[0.1111111111111111,\"#46039f\"],[0.2222222222222222,\"#7201a8\"],[0.3333333333333333,\"#9c179e\"],[0.4444444444444444,\"#bd3786\"],[0.5555555555555556,\"#d8576b\"],[0.6666666666666666,\"#ed7953\"],[0.7777777777777778,\"#fb9f3a\"],[0.8888888888888888,\"#fdca26\"],[1.0,\"#f0f921\"]]}],\"heatmapgl\":[{\"type\":\"heatmapgl\",\"colorbar\":{\"outlinewidth\":0,\"ticks\":\"\"},\"colorscale\":[[0.0,\"#0d0887\"],[0.1111111111111111,\"#46039f\"],[0.2222222222222222,\"#7201a8\"],[0.3333333333333333,\"#9c179e\"],[0.4444444444444444,\"#bd3786\"],[0.5555555555555556,\"#d8576b\"],[0.6666666666666666,\"#ed7953\"],[0.7777777777777778,\"#fb9f3a\"],[0.8888888888888888,\"#fdca26\"],[1.0,\"#f0f921\"]]}],\"contourcarpet\":[{\"type\":\"contourcarpet\",\"colorbar\":{\"outlinewidth\":0,\"ticks\":\"\"}}],\"contour\":[{\"type\":\"contour\",\"colorbar\":{\"outlinewidth\":0,\"ticks\":\"\"},\"colorscale\":[[0.0,\"#0d0887\"],[0.1111111111111111,\"#46039f\"],[0.2222222222222222,\"#7201a8\"],[0.3333333333333333,\"#9c179e\"],[0.4444444444444444,\"#bd3786\"],[0.5555555555555556,\"#d8576b\"],[0.6666666666666666,\"#ed7953\"],[0.7777777777777778,\"#fb9f3a\"],[0.8888888888888888,\"#fdca26\"],[1.0,\"#f0f921\"]]}],\"surface\":[{\"type\":\"surface\",\"colorbar\":{\"outlinewidth\":0,\"ticks\":\"\"},\"colorscale\":[[0.0,\"#0d0887\"],[0.1111111111111111,\"#46039f\"],[0.2222222222222222,\"#7201a8\"],[0.3333333333333333,\"#9c179e\"],[0.4444444444444444,\"#bd3786\"],[0.5555555555555556,\"#d8576b\"],[0.6666666666666666,\"#ed7953\"],[0.7777777777777778,\"#fb9f3a\"],[0.8888888888888888,\"#fdca26\"],[1.0,\"#f0f921\"]]}],\"mesh3d\":[{\"type\":\"mesh3d\",\"colorbar\":{\"outlinewidth\":0,\"ticks\":\"\"}}],\"scatter\":[{\"fillpattern\":{\"fillmode\":\"overlay\",\"size\":10,\"solidity\":0.2},\"type\":\"scatter\"}],\"parcoords\":[{\"type\":\"parcoords\",\"line\":{\"colorbar\":{\"outlinewidth\":0,\"ticks\":\"\"}}}],\"scatterpolargl\":[{\"type\":\"scatterpolargl\",\"marker\":{\"colorbar\":{\"outlinewidth\":0,\"ticks\":\"\"}}}],\"bar\":[{\"error_x\":{\"color\":\"#2a3f5f\"},\"error_y\":{\"color\":\"#2a3f5f\"},\"marker\":{\"line\":{\"color\":\"#E5ECF6\",\"width\":0.5},\"pattern\":{\"fillmode\":\"overlay\",\"size\":10,\"solidity\":0.2}},\"type\":\"bar\"}],\"scattergeo\":[{\"type\":\"scattergeo\",\"marker\":{\"colorbar\":{\"outlinewidth\":0,\"ticks\":\"\"}}}],\"scatterpolar\":[{\"type\":\"scatterpolar\",\"marker\":{\"colorbar\":{\"outlinewidth\":0,\"ticks\":\"\"}}}],\"histogram\":[{\"marker\":{\"pattern\":{\"fillmode\":\"overlay\",\"size\":10,\"solidity\":0.2}},\"type\":\"histogram\"}],\"scattergl\":[{\"type\":\"scattergl\",\"marker\":{\"colorbar\":{\"outlinewidth\":0,\"ticks\":\"\"}}}],\"scatter3d\":[{\"type\":\"scatter3d\",\"line\":{\"colorbar\":{\"outlinewidth\":0,\"ticks\":\"\"}},\"marker\":{\"colorbar\":{\"outlinewidth\":0,\"ticks\":\"\"}}}],\"scattermapbox\":[{\"type\":\"scattermapbox\",\"marker\":{\"colorbar\":{\"outlinewidth\":0,\"ticks\":\"\"}}}],\"scatterternary\":[{\"type\":\"scatterternary\",\"marker\":{\"colorbar\":{\"outlinewidth\":0,\"ticks\":\"\"}}}],\"scattercarpet\":[{\"type\":\"scattercarpet\",\"marker\":{\"colorbar\":{\"outlinewidth\":0,\"ticks\":\"\"}}}],\"carpet\":[{\"aaxis\":{\"endlinecolor\":\"#2a3f5f\",\"gridcolor\":\"white\",\"linecolor\":\"white\",\"minorgridcolor\":\"white\",\"startlinecolor\":\"#2a3f5f\"},\"baxis\":{\"endlinecolor\":\"#2a3f5f\",\"gridcolor\":\"white\",\"linecolor\":\"white\",\"minorgridcolor\":\"white\",\"startlinecolor\":\"#2a3f5f\"},\"type\":\"carpet\"}],\"table\":[{\"cells\":{\"fill\":{\"color\":\"#EBF0F8\"},\"line\":{\"color\":\"white\"}},\"header\":{\"fill\":{\"color\":\"#C8D4E3\"},\"line\":{\"color\":\"white\"}},\"type\":\"table\"}],\"barpolar\":[{\"marker\":{\"line\":{\"color\":\"#E5ECF6\",\"width\":0.5},\"pattern\":{\"fillmode\":\"overlay\",\"size\":10,\"solidity\":0.2}},\"type\":\"barpolar\"}],\"pie\":[{\"automargin\":true,\"type\":\"pie\"}]},\"layout\":{\"autotypenumbers\":\"strict\",\"colorway\":[\"#636efa\",\"#EF553B\",\"#00cc96\",\"#ab63fa\",\"#FFA15A\",\"#19d3f3\",\"#FF6692\",\"#B6E880\",\"#FF97FF\",\"#FECB52\"],\"font\":{\"color\":\"#2a3f5f\"},\"hovermode\":\"closest\",\"hoverlabel\":{\"align\":\"left\"},\"paper_bgcolor\":\"white\",\"plot_bgcolor\":\"#E5ECF6\",\"polar\":{\"bgcolor\":\"#E5ECF6\",\"angularaxis\":{\"gridcolor\":\"white\",\"linecolor\":\"white\",\"ticks\":\"\"},\"radialaxis\":{\"gridcolor\":\"white\",\"linecolor\":\"white\",\"ticks\":\"\"}},\"ternary\":{\"bgcolor\":\"#E5ECF6\",\"aaxis\":{\"gridcolor\":\"white\",\"linecolor\":\"white\",\"ticks\":\"\"},\"baxis\":{\"gridcolor\":\"white\",\"linecolor\":\"white\",\"ticks\":\"\"},\"caxis\":{\"gridcolor\":\"white\",\"linecolor\":\"white\",\"ticks\":\"\"}},\"coloraxis\":{\"colorbar\":{\"outlinewidth\":0,\"ticks\":\"\"}},\"colorscale\":{\"sequential\":[[0.0,\"#0d0887\"],[0.1111111111111111,\"#46039f\"],[0.2222222222222222,\"#7201a8\"],[0.3333333333333333,\"#9c179e\"],[0.4444444444444444,\"#bd3786\"],[0.5555555555555556,\"#d8576b\"],[0.6666666666666666,\"#ed7953\"],[0.7777777777777778,\"#fb9f3a\"],[0.8888888888888888,\"#fdca26\"],[1.0,\"#f0f921\"]],\"sequentialminus\":[[0.0,\"#0d0887\"],[0.1111111111111111,\"#46039f\"],[0.2222222222222222,\"#7201a8\"],[0.3333333333333333,\"#9c179e\"],[0.4444444444444444,\"#bd3786\"],[0.5555555555555556,\"#d8576b\"],[0.6666666666666666,\"#ed7953\"],[0.7777777777777778,\"#fb9f3a\"],[0.8888888888888888,\"#fdca26\"],[1.0,\"#f0f921\"]],\"diverging\":[[0,\"#8e0152\"],[0.1,\"#c51b7d\"],[0.2,\"#de77ae\"],[0.3,\"#f1b6da\"],[0.4,\"#fde0ef\"],[0.5,\"#f7f7f7\"],[0.6,\"#e6f5d0\"],[0.7,\"#b8e186\"],[0.8,\"#7fbc41\"],[0.9,\"#4d9221\"],[1,\"#276419\"]]},\"xaxis\":{\"gridcolor\":\"white\",\"linecolor\":\"white\",\"ticks\":\"\",\"title\":{\"standoff\":15},\"zerolinecolor\":\"white\",\"automargin\":true,\"zerolinewidth\":2},\"yaxis\":{\"gridcolor\":\"white\",\"linecolor\":\"white\",\"ticks\":\"\",\"title\":{\"standoff\":15},\"zerolinecolor\":\"white\",\"automargin\":true,\"zerolinewidth\":2},\"scene\":{\"xaxis\":{\"backgroundcolor\":\"#E5ECF6\",\"gridcolor\":\"white\",\"linecolor\":\"white\",\"showbackground\":true,\"ticks\":\"\",\"zerolinecolor\":\"white\",\"gridwidth\":2},\"yaxis\":{\"backgroundcolor\":\"#E5ECF6\",\"gridcolor\":\"white\",\"linecolor\":\"white\",\"showbackground\":true,\"ticks\":\"\",\"zerolinecolor\":\"white\",\"gridwidth\":2},\"zaxis\":{\"backgroundcolor\":\"#E5ECF6\",\"gridcolor\":\"white\",\"linecolor\":\"white\",\"showbackground\":true,\"ticks\":\"\",\"zerolinecolor\":\"white\",\"gridwidth\":2}},\"shapedefaults\":{\"line\":{\"color\":\"#2a3f5f\"}},\"annotationdefaults\":{\"arrowcolor\":\"#2a3f5f\",\"arrowhead\":0,\"arrowwidth\":1},\"geo\":{\"bgcolor\":\"white\",\"landcolor\":\"#E5ECF6\",\"subunitcolor\":\"white\",\"showland\":true,\"showlakes\":true,\"lakecolor\":\"white\"},\"title\":{\"x\":0.05},\"mapbox\":{\"style\":\"light\"}}},\"xaxis\":{\"anchor\":\"y\",\"domain\":[0.0,0.225],\"title\":{\"text\":\"issue date\"}},\"yaxis\":{\"anchor\":\"x\",\"domain\":[0.0,1.0],\"title\":{\"text\":\"mean score\"}},\"xaxis2\":{\"anchor\":\"y2\",\"domain\":[0.275,0.5],\"title\":{\"text\":\"issue date\"}},\"yaxis2\":{\"anchor\":\"x2\",\"domain\":[0.0,1.0]},\"xaxis3\":{\"anchor\":\"y3\",\"domain\":[0.55,1.0],\"title\":{\"text\":\"weight scheme\"}},\"yaxis3\":{\"anchor\":\"x3\",\"domain\":[0.0,1.0]},\"autosize\":false,\"width\":1000,\"height\":350,\"legend\":{\"orientation\":\"v\",\"yanchor\":\"top\",\"y\":0.99,\"xanchor\":\"right\",\"x\":0.99},\"margin\":{\"l\":5,\"r\":5,\"t\":30,\"b\":5},\"annotations\":[{\"showarrow\":false,\"text\":\"(a)\",\"x\":0.02,\"xanchor\":\"right\",\"xref\":\"paper\",\"y\":1.02,\"yanchor\":\"bottom\",\"yref\":\"paper\"},{\"showarrow\":false,\"text\":\"(b)\",\"x\":0.295,\"xanchor\":\"right\",\"xref\":\"paper\",\"y\":1.02,\"yanchor\":\"bottom\",\"yref\":\"paper\"},{\"showarrow\":false,\"text\":\"(c)\",\"x\":0.57,\"xanchor\":\"right\",\"xref\":\"paper\",\"y\":1.02,\"yanchor\":\"bottom\",\"yref\":\"paper\"}]},                        {\"responsive\": true}                    ).then(function(){\n",
       "                            \n",
       "var gd = document.getElementById('4a668a82-64b5-4c68-810a-9a10ea633790');\n",
       "var x = new MutationObserver(function (mutations, observer) {{\n",
       "        var display = window.getComputedStyle(gd).display;\n",
       "        if (!display || display === 'none') {{\n",
       "            console.log([gd, 'removed!']);\n",
       "            Plotly.purge(gd);\n",
       "            observer.disconnect();\n",
       "        }}\n",
       "}});\n",
       "\n",
       "// Listen for the removal of the full notebook cells\n",
       "var notebookContainer = gd.closest('#notebook-container');\n",
       "if (notebookContainer) {{\n",
       "    x.observe(notebookContainer, {childList: true});\n",
       "}}\n",
       "\n",
       "// Listen for the clearing of the current output cell\n",
       "var outputEl = gd.closest('.output');\n",
       "if (outputEl) {{\n",
       "    x.observe(outputEl, {childList: true});\n",
       "}}\n",
       "\n",
       "                        })                };                });            </script>        </div>"
      ]
     },
     "metadata": {},
     "output_type": "display_data"
    }
   ],
   "source": [
    "# Plot of mean scores in Section 4 of the paper\n",
    "\n",
    "LEAD_DAY = 0  # lead day for weight scheme comparison in plot (c)\n",
    "\n",
    "# Labels for the plot\n",
    "issue_dates = ['15 Dec', '16 Dec', '17 Dec']\n",
    "names_list = ['ECMWF ensemble', 'ECMWF deterministic', 'ACCESS-GE3', 'Never Warn']\n",
    "colours_list = [\"#E69F00\", \"#56B4E9\", \"#CC79A7\", \"#D55E00\"]\n",
    "weights = ['LONG-RANGE', 'MID-RANGE', 'SHORT-RANGE', 'ESCALATE', 'UNIFORM']\n",
    "\n",
    "# uniform weights for plot (a)\n",
    "wt_sequence0 = wt_uniform.copy()\n",
    "\n",
    "# non-normalised weights for warning sequence in plot (b)\n",
    "wt_sequence1 = xr.concat([\n",
    "    wt_longrange.assign_coords(lead_day=2).expand_dims('lead_day'),\n",
    "    wt_midrange.assign_coords(lead_day=1).expand_dims('lead_day'),\n",
    "    wt_shortrange.assign_coords(lead_day=0).expand_dims('lead_day'),\n",
    "], 'lead_day')\n",
    "\n",
    "# normalised weights for lead day 0 in plot (c)\n",
    "wt_sequence2 = xr.concat([\n",
    "    wt_longrange.assign_coords(weight='watch').expand_dims('weight'),\n",
    "    wt_midrange.assign_coords(weight='warning1').expand_dims('weight'),\n",
    "    wt_shortrange.assign_coords(weight='warning0').expand_dims('weight'),\n",
    "    wt_escalate.assign_coords(weight='escalate').expand_dims('weight'),\n",
    "    wt_uniform.assign_coords(weight='all').expand_dims('weight'),\n",
    "], 'weight')\n",
    "# normalisation step\n",
    "wt_sequence2 = wt_sequence2 / wt_sequence2.sum(['prob_threshold', 'sev_threshold'])\n",
    "\n",
    "# scoring functions for each of the plots\n",
    "def _scfunc0(fcst):\n",
    "    \"\"\"\n",
    "    Risk matrix score with uniform weights (plot a)\n",
    "    \"\"\"\n",
    "    result = mf.risk_matrix_score(\n",
    "        fcst.sel(lead_day=slice(0,2)), \n",
    "        binary_obs, \n",
    "        wt_sequence0, \n",
    "        PROB_THRESHOLDS, \n",
    "        'sev_threshold'\n",
    "    )\n",
    "    return result\n",
    "\n",
    "def _scfunc1(fcst):\n",
    "    \"\"\"\n",
    "    Warning score for warning sequence (plot b)\n",
    "    \"\"\"\n",
    "    result = mf.risk_matrix_score(\n",
    "        fcst.sel(lead_day=slice(0,2)), \n",
    "        binary_obs, \n",
    "        wt_sequence1, \n",
    "        PROB_THRESHOLDS, \n",
    "        'sev_threshold'\n",
    "    )\n",
    "    return result\n",
    "\n",
    "def _scfunc2(fcst):\n",
    "    \"\"\"\n",
    "    Risk matrix scores using different weight schemes (plot b)\n",
    "    \"\"\"\n",
    "    result = mf.risk_matrix_score(\n",
    "        fcst.sel(lead_day=LEAD_DAY), \n",
    "        binary_obs, \n",
    "        wt_sequence2, \n",
    "        PROB_THRESHOLDS, \n",
    "        'sev_threshold'\n",
    "    )\n",
    "    return result\n",
    "\n",
    "# get the mean scores\n",
    "fcst_list = [poe_ecens, poe_ecdet, poe_acens, poe_nil]\n",
    "\n",
    "scores0 = [_scfunc0(fcst) for fcst in fcst_list]\n",
    "scores0 = [x.mean('station_number') for x in scores0]\n",
    "\n",
    "scores1 = [_scfunc1(fcst) for fcst in fcst_list]\n",
    "scores1 = [x.mean('station_number') for x in scores1]\n",
    "\n",
    "scores2 = [_scfunc2(fcst) for fcst in fcst_list]\n",
    "scores2 = [x.mean('station_number') for x in scores2]\n",
    "\n",
    "################\n",
    "# make the plot\n",
    "fig = make_subplots(rows=1, cols=3, column_widths=[0.25, 0.25, 0.5], horizontal_spacing=0.05)\n",
    "\n",
    "# values in plot (a)\n",
    "for yvals, name, color in zip(scores0, names_list, colours_list):\n",
    "        \n",
    "        fig.add_trace(go.Bar(\n",
    "            x=issue_dates,\n",
    "            y=np.flip(yvals.values.flatten()),\n",
    "            name=name,\n",
    "            showlegend=False,\n",
    "            marker_color=color\n",
    "        ), row=1, col=1)\n",
    "\n",
    "# values in plot (b)\n",
    "for yvals, name, color in zip(scores1, names_list, colours_list):\n",
    "        \n",
    "        fig.add_trace(go.Bar(\n",
    "            x=issue_dates,\n",
    "            y=np.flip(yvals.values.flatten()),\n",
    "            name=name,\n",
    "            marker_color=color\n",
    "        ), row=1, col=2)\n",
    "\n",
    "# values in plot (c)\n",
    "for yvals, name, color in zip(scores2, names_list, colours_list):\n",
    "        \n",
    "        fig.add_trace(go.Bar(\n",
    "            x=weights,\n",
    "            y=yvals.values.flatten(),\n",
    "            name=name,\n",
    "            marker_color=color,\n",
    "            showlegend=False\n",
    "        ), row=1, col=3)\n",
    "\n",
    "\n",
    "# Update xaxis properties\n",
    "fig.update_xaxes(title_text=\"issue date\", row=1, col=1)\n",
    "fig.update_xaxes(title_text=\"issue date\", row=1, col=2)\n",
    "fig.update_xaxes(title_text=\"weight scheme\", row=1, col=3)\n",
    "\n",
    "fig.update_yaxes(title_text=\"mean score\", row=1, col=1)\n",
    "\n",
    "# update layour\n",
    "fig.update_layout(\n",
    "    autosize=False,\n",
    "    width=1000,\n",
    "    height=350,\n",
    ")\n",
    "\n",
    "fig.update_layout(legend=dict(\n",
    "    orientation=\"v\",\n",
    "    yanchor=\"top\",\n",
    "    y=.99,\n",
    "    xanchor=\"right\",  # changed\n",
    "    x=.99\n",
    "))\n",
    "\n",
    "fig.update_layout(\n",
    "    margin=dict(l=5, r=5, t=30, b=5),\n",
    ")\n",
    "\n",
    "# add subplot labels\n",
    "fig.add_annotation(xref='paper', yref='paper',\n",
    "                   x=.02, y=1.02,\n",
    "                   xanchor='right', yanchor='bottom',\n",
    "                   text='(a)', showarrow=False,)\n",
    "\n",
    "fig.add_annotation(xref='paper', yref='paper',\n",
    "                   x=.295, y=1.02,\n",
    "                   xanchor='right', yanchor='bottom',\n",
    "                   text='(b)', showarrow=False,)\n",
    "\n",
    "fig.add_annotation(xref='paper', yref='paper',\n",
    "                   x=.57, y=1.02,\n",
    "                   xanchor='right', yanchor='bottom',\n",
    "                   text='(c)', showarrow=False,)\n",
    "\n",
    "fig.show()"
   ]
  }
 ],
 "metadata": {
  "kernelspec": {
   "display_name": "Python [conda env:analysis3]",
   "language": "python",
   "name": "conda-env-analysis3-py"
  },
  "language_info": {
   "codemirror_mode": {
    "name": "ipython",
    "version": 3
   },
   "file_extension": ".py",
   "mimetype": "text/x-python",
   "name": "python",
   "nbconvert_exporter": "python",
   "pygments_lexer": "ipython3",
   "version": "3.10.14"
  }
 },
 "nbformat": 4,
 "nbformat_minor": 5
}
